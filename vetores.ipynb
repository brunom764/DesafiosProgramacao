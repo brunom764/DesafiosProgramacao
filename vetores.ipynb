{
  "nbformat": 4,
  "nbformat_minor": 0,
  "metadata": {
    "colab": {
      "provenance": []
    },
    "kernelspec": {
      "name": "python3",
      "display_name": "Python 3"
    },
    "language_info": {
      "name": "python"
    }
  },
  "cells": [
    {
      "cell_type": "markdown",
      "source": [
        "Construa um programa que preenche um vetor de inteiros de 100 números,\n",
        "colocando 0 nas posições pares e 1 nas ímpares."
      ],
      "metadata": {
        "id": "TY6NSFS3Bgw5"
      }
    },
    {
      "cell_type": "code",
      "execution_count": 1,
      "metadata": {
        "colab": {
          "base_uri": "https://localhost:8080/"
        },
        "id": "6TdDxJFFAfV1",
        "outputId": "8d2927d2-7df8-40a7-8ff8-a892a4b27293"
      },
      "outputs": [
        {
          "output_type": "execute_result",
          "data": {
            "text/plain": [
              "array([0, 0, 0, 0, 0, 0, 0, 0, 0, 0, 0, 0, 0, 0, 0, 0, 0, 0, 0, 0, 0, 0,\n",
              "       0, 0, 0, 0, 0, 0, 0, 0, 0, 0, 0, 0, 0, 0, 0, 0, 0, 0, 0, 0, 0, 0,\n",
              "       0, 0, 0, 0, 0, 0, 0, 0, 0, 0, 0, 0, 0, 0, 0, 0, 0, 0, 0, 0, 0, 0,\n",
              "       0, 0, 0, 0, 0, 0, 0, 0, 0, 0, 0, 0, 0, 0, 0, 0, 0, 0, 0, 0, 0, 0,\n",
              "       0, 0, 0, 0, 0, 0, 0, 0, 0, 0, 0, 0], dtype=int8)"
            ]
          },
          "metadata": {},
          "execution_count": 1
        }
      ],
      "source": [
        "import numpy as np\n",
        "v = np.zeros(100,np.byte)\n",
        "v"
      ]
    },
    {
      "cell_type": "code",
      "source": [
        "for i in range(0,100,2):\n",
        "  v[i]=1\n",
        "\n",
        "v"
      ],
      "metadata": {
        "colab": {
          "base_uri": "https://localhost:8080/"
        },
        "id": "9zZR0zKuBIFY",
        "outputId": "daa1f43f-7939-452b-9021-78421eafbe4c"
      },
      "execution_count": 2,
      "outputs": [
        {
          "output_type": "execute_result",
          "data": {
            "text/plain": [
              "array([1, 0, 1, 0, 1, 0, 1, 0, 1, 0, 1, 0, 1, 0, 1, 0, 1, 0, 1, 0, 1, 0,\n",
              "       1, 0, 1, 0, 1, 0, 1, 0, 1, 0, 1, 0, 1, 0, 1, 0, 1, 0, 1, 0, 1, 0,\n",
              "       1, 0, 1, 0, 1, 0, 1, 0, 1, 0, 1, 0, 1, 0, 1, 0, 1, 0, 1, 0, 1, 0,\n",
              "       1, 0, 1, 0, 1, 0, 1, 0, 1, 0, 1, 0, 1, 0, 1, 0, 1, 0, 1, 0, 1, 0,\n",
              "       1, 0, 1, 0, 1, 0, 1, 0, 1, 0, 1, 0], dtype=int8)"
            ]
          },
          "metadata": {},
          "execution_count": 2
        }
      ]
    },
    {
      "cell_type": "markdown",
      "source": [
        "Construa um programa que lê, soma e imprime o resultado da soma de um\n",
        "vetor de inteiros de 10 posições."
      ],
      "metadata": {
        "id": "Go4DDNvxBmea"
      }
    },
    {
      "cell_type": "code",
      "source": [
        "vetor = np.empty(10)\n",
        "soma = 0\n",
        "for i in range(0,10):\n",
        "  soma += vetor[i]\n",
        "\n",
        "soma"
      ],
      "metadata": {
        "colab": {
          "base_uri": "https://localhost:8080/"
        },
        "id": "HmCu0AFwBpyr",
        "outputId": "9d8e1550-a878-4e6c-99ad-d8f0dbb90642"
      },
      "execution_count": 5,
      "outputs": [
        {
          "output_type": "execute_result",
          "data": {
            "text/plain": [
              "1.425549507220215e+160"
            ]
          },
          "metadata": {},
          "execution_count": 5
        }
      ]
    },
    {
      "cell_type": "markdown",
      "source": [
        "Leia um vetor de 16 posições e troque os 8 primeiros valores pelos 8 últimos\n",
        "e vice-versa. Escreva ao final o vetor obtido."
      ],
      "metadata": {
        "id": "e1QRMew_DOg-"
      }
    },
    {
      "cell_type": "code",
      "source": [
        "vetor2 = np.empty(16,float)\n",
        "newVetor = vetor2[8:]\n",
        "newVetor2 = vetor2[:8]\n",
        "vetorOrganizado = np.concatenate((newVetor, newVetor2))\n",
        "print(f'Vetor inicial: {vetor2}, \\n Vetor organizado:{vetorOrganizado}')"
      ],
      "metadata": {
        "colab": {
          "base_uri": "https://localhost:8080/"
        },
        "id": "FIFIH6KtDPxc",
        "outputId": "8ea75bde-e226-447f-a764-72364ef8f493"
      },
      "execution_count": 20,
      "outputs": [
        {
          "output_type": "stream",
          "name": "stdout",
          "text": [
            "Vetor inicial: [3.82666412e-316 2.35541533e-312 1.67637668e-312 2.18565567e-312\n",
            " 2.33419537e-312 2.58883487e-312 2.12199579e-312 6.79038654e-313\n",
            " 6.79038653e-313 2.14321575e-312 1.82491638e-312 2.46151512e-312\n",
            " 2.41907520e-312 9.12458190e-313 2.33419537e-312 0.00000000e+000], \n",
            " Vetor organizado:[6.79038653e-313 2.14321575e-312 1.82491638e-312 2.46151512e-312\n",
            " 2.41907520e-312 9.12458190e-313 2.33419537e-312 0.00000000e+000\n",
            " 3.82666412e-316 2.35541533e-312 1.67637668e-312 2.18565567e-312\n",
            " 2.33419537e-312 2.58883487e-312 2.12199579e-312 6.79038654e-313]\n"
          ]
        }
      ]
    }
  ]
}